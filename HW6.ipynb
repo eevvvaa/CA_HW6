{
  "metadata": {
    "kernelspec": {
      "name": "python",
      "display_name": "Python (Pyodide)",
      "language": "python"
    },
    "language_info": {
      "codemirror_mode": {
        "name": "python",
        "version": 3
      },
      "file_extension": ".py",
      "mimetype": "text/x-python",
      "name": "python",
      "nbconvert_exporter": "python",
      "pygments_lexer": "ipython3",
      "version": "3.8"
    }
  },
  "nbformat_minor": 5,
  "nbformat": 4,
  "cells": [
    {
      "cell_type": "code",
      "source": "print('Hello')",
      "metadata": {},
      "execution_count": null,
      "outputs": [],
      "id": "0db8d442-daa4-45ea-a375-30493a55bf11"
    },
    {
      "cell_type": "code",
      "source": "",
      "metadata": {},
      "execution_count": null,
      "outputs": [],
      "id": "e1664221-b939-4d86-af77-086d44fc7947"
    }
  ]
}